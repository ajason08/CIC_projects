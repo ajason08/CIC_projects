{
 "cells": [
  {
   "cell_type": "code",
   "execution_count": 8,
   "metadata": {},
   "outputs": [],
   "source": [
    "import requests\n",
    "from bs4 import BeautifulSoup\\\n",
    "\n",
    "def pyGoogleSearch(text):\n",
    "    text = text.replace(\" \",\"+\")\n",
    "    address = 'http://www.google.com/search?q='\n",
    "    query = address + text\n",
    "    page = requests.get(query)\n",
    "    return BeautifulSoup(page.content, 'html.parser')\n",
    "def get_google_num_results(soup):\n",
    "    phrase_extract = soup.find(id=\"resultStats\").text\n",
    "    print(phrase_extract)    "
   ]
  },
  {
   "cell_type": "code",
   "execution_count": 4,
   "metadata": {},
   "outputs": [
    {
     "name": "stdout",
     "output_type": "stream",
     "text": [
      "<div class=\"sd\" id=\"resultStats\">Circa 17.360.000.000 risultati</div>\n",
      "None\n"
     ]
    }
   ],
   "source": [
    "x = pyGoogleSearch(\"world\")\n",
    "print (x)"
   ]
  },
  {
   "cell_type": "code",
   "execution_count": 9,
   "metadata": {},
   "outputs": [
    {
     "name": "stdout",
     "output_type": "stream",
     "text": [
      "Circa 1.660.000.000 risultati\n",
      "None\n"
     ]
    }
   ],
   "source": [
    "x = pyGoogleSearch(\"hello world\")\n",
    "print (x)"
   ]
  },
  {
   "cell_type": "code",
   "execution_count": null,
   "metadata": {},
   "outputs": [],
   "source": []
  }
 ],
 "metadata": {
  "kernelspec": {
   "display_name": "Python 3",
   "language": "python",
   "name": "python3"
  },
  "language_info": {
   "codemirror_mode": {
    "name": "ipython",
    "version": 3
   },
   "file_extension": ".py",
   "mimetype": "text/x-python",
   "name": "python",
   "nbconvert_exporter": "python",
   "pygments_lexer": "ipython3",
   "version": "3.7.1"
  }
 },
 "nbformat": 4,
 "nbformat_minor": 2
}
