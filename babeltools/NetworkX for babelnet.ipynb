{
 "cells": [
  {
   "cell_type": "code",
   "execution_count": 8,
   "metadata": {},
   "outputs": [],
   "source": [
    "import re\n",
    "import networkx as nx\n",
    "\n",
    "path = \"/home/jason/my_temp/\""
   ]
  },
  {
   "cell_type": "code",
   "execution_count": null,
   "metadata": {},
   "outputs": [],
   "source": [
    "my_types = []\n",
    "fin = open(path+\"babel_types\")\n",
    "fout = open(path+\"babel_types_group\", \"wt\")\n",
    "for line in fin:\n",
    "    if line not in my_types:\n",
    "        my_types.append(line)\n",
    "        fout.write(line)\n",
    "fin.close()\n",
    "fout.close()"
   ]
  },
  {
   "cell_type": "code",
   "execution_count": 3,
   "metadata": {},
   "outputs": [
    {
     "name": "stdout",
     "output_type": "stream",
     "text": [
      "/home/jason/anaconda2/lib/python2.7/site-packages/pip/_internal/commands/install.py:211: UserWarning: Disabling all use of wheels due to the use of --build-options / --global-options / --install-options.\n",
      "  cmdoptions.check_install_build_global(options)\n",
      "Collecting python-igraph\n",
      "  Using cached https://files.pythonhosted.org/packages/0f/a0/4e7134f803737aa6eebb4e5250565ace0e2599659e22be7f7eba520ff017/python-igraph-0.7.1.post6.tar.gz\n",
      "Skipping bdist_wheel for python-igraph, due to binaries being disabled for it.\n",
      "Installing collected packages: python-igraph\n",
      "  Running setup.py install for python-igraph ... \u001b[?25ldone\n",
      "\u001b[?25hSuccessfully installed python-igraph-0.7.1.post6\n"
     ]
    }
   ],
   "source": [
    "!pip install python-igraph --install-option=\"--c-core-version=0.7.1\""
   ]
  },
  {
   "cell_type": "code",
   "execution_count": null,
   "metadata": {},
   "outputs": [],
   "source": [
    "!pip install --upgrade pip"
   ]
  },
  {
   "cell_type": "code",
   "execution_count": null,
   "metadata": {},
   "outputs": [],
   "source": [
    "er = nx.erdos_renyi_graph(100, 0.15)"
   ]
  },
  {
   "cell_type": "code",
   "execution_count": null,
   "metadata": {},
   "outputs": [],
   "source": [
    "nx.shortest_path(er, 0, 99)"
   ]
  },
  {
   "cell_type": "code",
   "execution_count": null,
   "metadata": {},
   "outputs": [],
   "source": [
    "er.edges"
   ]
  },
  {
   "cell_type": "code",
   "execution_count": 34,
   "metadata": {},
   "outputs": [],
   "source": [
    "G=nx.read_adjlist(path+\"head_babel2\")"
   ]
  },
  {
   "cell_type": "code",
   "execution_count": null,
   "metadata": {},
   "outputs": [],
   "source": [
    "G.nodes"
   ]
  },
  {
   "cell_type": "code",
   "execution_count": null,
   "metadata": {},
   "outputs": [],
   "source": [
    "nx.shortest_path(G, \"00000356\", \"00030314\")"
   ]
  },
  {
   "cell_type": "code",
   "execution_count": null,
   "metadata": {},
   "outputs": [],
   "source": [
    "G_babel=nx.read_edgelist(path+\"babel_outputx\",delimiter=\" \", data=(('r',int),), create_using=nx.Graph())"
   ]
  },
  {
   "cell_type": "code",
   "execution_count": null,
   "metadata": {},
   "outputs": [],
   "source": [
    "G2.edges(data=True)"
   ]
  },
  {
   "cell_type": "code",
   "execution_count": null,
   "metadata": {},
   "outputs": [],
   "source": [
    "import psutil\n",
    "import os\n",
    "\n",
    "tot_m, used_m, free_m = map(int, os.popen('free -t -m').readlines()[-1].split()[1:])\n",
    "print psutil.virtual_memory()\n",
    "\n",
    "print tot_m, free_m, used_m, "
   ]
  },
  {
   "cell_type": "code",
   "execution_count": 6,
   "metadata": {},
   "outputs": [],
   "source": [
    "from igraph import *"
   ]
  },
  {
   "cell_type": "code",
   "execution_count": 26,
   "metadata": {},
   "outputs": [],
   "source": [
    "g = Graph.Read_Ncol(path+\"head_babel2\",True,False,False)\n",
    "g2 = Graph.Read_Ncol(path+\"head_babel2\",False,False,True)"
   ]
  },
  {
   "cell_type": "code",
   "execution_count": 51,
   "metadata": {},
   "outputs": [
    {
     "name": "stdout",
     "output_type": "stream",
     "text": [
      "64\n",
      "[0]\n",
      "64\n",
      "[0, 1]\n",
      "64\n",
      "[0, 1, 2]\n",
      "64\n",
      "[0, 1, 2, 3]\n",
      "64\n",
      "[0, 1, 2, 3, 4]\n",
      "64\n",
      "[0, 1, 2, 3, 4, 5]\n",
      "64\n",
      "[0, 1, 2, 3, 4, 5, 6]\n",
      "64\n",
      "[0, 1, 2, 3, 4, 5, 6, 7]\n",
      "64\n",
      "[0, 1, 2, 3, 4, 5, 6, 7, 8]\n",
      "64\n",
      "[0, 1, 2, 3, 4, 5, 6, 7, 8, 9]\n"
     ]
    }
   ],
   "source": [
    "mylist = []\n",
    "Gx= nx.Graph()\n",
    "for i in range(10):\n",
    "    mylist.append(i)\n",
    "    mylist.append(i)\n",
    "    print(sys.getsizeof(Gx))\n",
    "    Gx.add_node(i)\n",
    "    print(Gx.nodes())"
   ]
  },
  {
   "cell_type": "code",
   "execution_count": null,
   "metadata": {},
   "outputs": [],
   "source": []
  },
  {
   "cell_type": "code",
   "execution_count": 52,
   "metadata": {},
   "outputs": [
    {
     "name": "stdout",
     "output_type": "stream",
     "text": [
      "(248, 64)\n"
     ]
    }
   ],
   "source": [
    "import sys\n",
    "G=nx.read_adjlist(path+\"head_babel2\")\n",
    "g = Graph.Read_Ncol(path+\"head_babel2\",False,False,False)\n",
    "print(sys.getsizeof(g),sys.getsizeof(G))"
   ]
  },
  {
   "cell_type": "code",
   "execution_count": 56,
   "metadata": {},
   "outputs": [
    {
     "name": "stdout",
     "output_type": "stream",
     "text": [
      "igraph.Vertex(<igraph.Graph object at 0x7f1af9cae430>,0,{})\n"
     ]
    }
   ],
   "source": [
    "g.vs[0]"
   ]
  },
  {
   "cell_type": "code",
   "execution_count": null,
   "metadata": {},
   "outputs": [],
   "source": []
  }
 ],
 "metadata": {
  "kernelspec": {
   "display_name": "Python 2",
   "language": "python",
   "name": "python2"
  },
  "language_info": {
   "codemirror_mode": {
    "name": "ipython",
    "version": 2
   },
   "file_extension": ".py",
   "mimetype": "text/x-python",
   "name": "python",
   "nbconvert_exporter": "python",
   "pygments_lexer": "ipython2",
   "version": "2.7.15"
  }
 },
 "nbformat": 4,
 "nbformat_minor": 2
}
