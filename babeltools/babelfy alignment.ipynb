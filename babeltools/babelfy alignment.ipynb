{
 "cells": [
  {
   "cell_type": "code",
   "execution_count": 33,
   "metadata": {},
   "outputs": [
    {
     "name": "stdout",
     "output_type": "stream",
     "text": [
      "Collecting pandas\n",
      "\u001b[?25l  Downloading https://files.pythonhosted.org/packages/7e/ab/ea76361f9d3e732e114adcd801d2820d5319c23d0ac5482fa3b412db217e/pandas-0.25.1-cp37-cp37m-manylinux1_x86_64.whl (10.4MB)\n",
      "\u001b[K     |████████████████████████████████| 10.4MB 1.1MB/s eta 0:00:01\n",
      "\u001b[?25hCollecting pytz>=2017.2 (from pandas)\n",
      "\u001b[?25l  Downloading https://files.pythonhosted.org/packages/87/76/46d697698a143e05f77bec5a526bf4e56a0be61d63425b68f4ba553b51f2/pytz-2019.2-py2.py3-none-any.whl (508kB)\n",
      "\u001b[K     |████████████████████████████████| 512kB 16.3MB/s eta 0:00:01\n",
      "\u001b[?25hRequirement already satisfied: numpy>=1.13.3 in ./.conda/envs/torch3.7/lib/python3.7/site-packages (from pandas) (1.16.4)\n",
      "Requirement already satisfied: python-dateutil>=2.6.1 in ./.conda/envs/torch3.7/lib/python3.7/site-packages (from pandas) (2.8.0)\n",
      "Requirement already satisfied: six>=1.5 in ./.conda/envs/torch3.7/lib/python3.7/site-packages (from python-dateutil>=2.6.1->pandas) (1.12.0)\n",
      "Installing collected packages: pytz, pandas\n",
      "Successfully installed pandas-0.25.1 pytz-2019.2\n"
     ]
    }
   ],
   "source": [
    "import sys\n",
    "!{sys.executable} -m pip install pandas"
   ]
  },
  {
   "cell_type": "code",
   "execution_count": 41,
   "metadata": {
    "scrolled": true
   },
   "outputs": [
    {
     "name": "stdout",
     "output_type": "stream",
     "text": [
      "classification systems\n",
      "            outtext                  outmwe         outbn\n",
      "0          Searches                Searches  bn:00045243n\n",
      "1             based                   based  bn:00083142v\n",
      "2                on                 missing       missing\n",
      "3            patent  patent classifications  bn:03127990n\n",
      "4   classifications  patent classifications  bn:03127990n\n",
      "5               can                 missing       missing\n",
      "6          identify                identify  bn:00089574v\n",
      "7         documents               documents  bn:00028015n\n",
      "8                of                 missing       missing\n",
      "9         different               different  bn:00101347a\n",
      "10        languages               languages  bn:00049910n\n",
      "11               by                 missing       missing\n",
      "12            using                 missing       missing\n",
      "13              the                 missing       missing\n",
      "14            codes                   codes  bn:00020352n\n",
      "15                (                 missing       missing\n",
      "16          classes                 classes  bn:00016733n\n",
      "17                )                 missing       missing\n",
      "18               of                 missing       missing\n",
      "19              the                 missing       missing\n",
      "20           system                  system  bn:15125301n\n",
      "21                ,                 missing       missing\n",
      "22           rather                 missing       missing\n",
      "23             than                 missing       missing\n",
      "24            words                   words  bn:00081546n\n",
      "25                .                 missing       missing\n",
      "26           Patent   Patent classification  bn:03127990n\n",
      "27   classification   Patent classification  bn:03127990n\n",
      "28          systems                 missing       missing\n",
      "29             were                 missing       missing\n",
      "30       originally              originally  bn:00115832r\n",
      "31        developed               developed  bn:00086733v\n",
      "32              for                 missing       missing\n",
      "33          sorting                 sorting  bn:00082871v\n",
      "34            paper                   paper  bn:00060464n\n",
      "35        documents               documents  bn:00028015n\n",
      "36                ,                 missing       missing\n",
      "37              but                 missing       missing\n",
      "38              are                 missing       missing\n",
      "39         nowadays                nowadays  bn:00116382r\n",
      "40             used                    used  bn:13783090v\n",
      "41              for                 missing       missing\n",
      "42        searching               searching  bn:00090460v\n",
      "43           patent                  patent  bn:00060984n\n",
      "44        databases               databases  bn:00025333n\n"
     ]
    }
   ],
   "source": [
    "# validate when mwe does not appears (pos = text.index(btoken)) because of the babelfy internal tokenizer\n",
    "\n",
    "\n",
    "\n",
    "from pandas import*\n",
    "text = \"Searches based on patent classifications can identify documents of different languages by using the codes (classes) of the system, rather than words. Patent classification systems were originally developed for sorting paper documents, but are nowadays used for searching patent databases.\"\n",
    "btokens = [\"Searches\",\"based\",\"patent classifications\",\"identify\",\"documents\",\"different\",\"languages\",\"codes\",\"classes\",\"system\",\"words\",\"Patent classification\",\"classification systems\",\"originally\",\"developed\",\"sorting\",\"paper\",\"documents\",\"nowadays\",\"used\",\"searching\",\"patent\",\"databases\"]\n",
    "bconcepts = [\"bn:00045243n\",\"bn:00083142v\",\"bn:03127990n\",\"bn:00089574v\",\"bn:00028015n\",\"bn:00101347a\",\"bn:00049910n\",\"bn:00020352n\",\"bn:00016733n\",\"bn:15125301n\",\"bn:00081546n\",\"bn:03127990n\",\"bn:00019580n\",\"bn:00115832r\",\"bn:00086733v\",\"bn:00082871v\",\"bn:00060464n\",\"bn:00028015n\",\"bn:00116382r\",\"bn:13783090v\",\"bn:00090460v\",\"bn:00060984n\",\"bn:00025333n\"]\n",
    "outtext = []\n",
    "outmwe = []\n",
    "outbn = [] \n",
    "for counter, btoken in enumerate(btokens):\n",
    "    try: pos = text.index(btoken)\n",
    "    except: \n",
    "        print (btoken)\n",
    "        continue\n",
    "    finpos = pos + len(btoken)\n",
    "    text1 = text[:pos].split()    \n",
    "    text2 = text[pos:finpos].split()\n",
    "    text3 = text[finpos:].split()\n",
    "    #print (text1,text2,text3)\n",
    "    #break\n",
    "    outtext += text1\n",
    "    outmwe += [\"missing\"]*len(text1)\n",
    "    outbn += [\"missing\"]*len(text1)\n",
    "    outtext += text2\n",
    "    outmwe += [btoken]*len(text2)    \n",
    "    outbn += [bconcepts[counter]]*len(text2)        \n",
    "    text = \" \".join(text3)\n",
    "\n",
    "mi_salida = DataFrame({\n",
    "    'outtext': outtext,\n",
    "    'outmwe': outmwe,    \n",
    "    'outbn': outbn,    \n",
    "})\n",
    "print (mi_salida.head(80))"
   ]
  },
  {
   "cell_type": "code",
   "execution_count": 9,
   "metadata": {},
   "outputs": [
    {
     "name": "stdout",
     "output_type": "stream",
     "text": [
      "1, 2, 3, 4\n"
     ]
    }
   ],
   "source": [
    "numList = ['1', '2', '3', '4']\n",
    "seperator = ', '\n",
    "print(seperator.join(numList))"
   ]
  },
  {
   "cell_type": "code",
   "execution_count": 28,
   "metadata": {},
   "outputs": [
    {
     "data": {
      "text/plain": [
       "['null', 'null', 'null', 'null', 'null']"
      ]
     },
     "execution_count": 28,
     "metadata": {},
     "output_type": "execute_result"
    }
   ],
   "source": []
  },
  {
   "cell_type": "code",
   "execution_count": null,
   "metadata": {},
   "outputs": [],
   "source": [
    "\".\".join"
   ]
  },
  {
   "cell_type": "code",
   "execution_count": null,
   "metadata": {},
   "outputs": [],
   "source": [
    "\".\"join"
   ]
  },
  {
   "cell_type": "code",
   "execution_count": 3,
   "metadata": {},
   "outputs": [
    {
     "name": "stdout",
     "output_type": "stream",
     "text": [
      "/home/cic/.conda/envs/torch3.7/bin/python\n"
     ]
    }
   ],
   "source": [
    "import sys\n",
    "!{sys.executable} -m pip uninstall -jupyter_nbextensions_configurator"
   ]
  },
  {
   "cell_type": "code",
   "execution_count": 2,
   "metadata": {},
   "outputs": [
    {
     "name": "stdout",
     "output_type": "stream",
     "text": [
      "Enabling: jupyter_nbextensions_configurator\r\n",
      "- Writing config: /home/cic/.jupyter\r\n",
      "    - Validating...\r\n",
      "      jupyter_nbextensions_configurator 0.4.1 \u001b[32mOK\u001b[0m\r\n",
      "Enabling notebook nbextension nbextensions_configurator/config_menu/main...\r\n",
      "Enabling tree nbextension nbextensions_configurator/tree_tab/main...\r\n"
     ]
    }
   ],
   "source": [
    "!jupyter nbextensions_configurator enable --user"
   ]
  }
 ],
 "metadata": {
  "kernelspec": {
   "display_name": "torch3.7",
   "language": "python",
   "name": "torch3.7"
  },
  "language_info": {
   "codemirror_mode": {
    "name": "ipython",
    "version": 3
   },
   "file_extension": ".py",
   "mimetype": "text/x-python",
   "name": "python",
   "nbconvert_exporter": "python",
   "pygments_lexer": "ipython3",
   "version": "3.7.4"
  }
 },
 "nbformat": 4,
 "nbformat_minor": 2
}
