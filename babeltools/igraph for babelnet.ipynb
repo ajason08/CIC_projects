{
 "cells": [
  {
   "cell_type": "code",
   "execution_count": 5,
   "metadata": {},
   "outputs": [],
   "source": [
    "from igraph import *\n",
    "path = \"/home/jason/my_temp/\""
   ]
  },
  {
   "cell_type": "code",
   "execution_count": null,
   "metadata": {},
   "outputs": [],
   "source": [
    "from igraph import *\n",
    "path = \"/home/jason/my_temp/\"\n",
    "g = Graph.Read_Ncol(path+\"babel_outputx2\",True,False,False)"
   ]
  },
  {
   "cell_type": "code",
   "execution_count": 12,
   "metadata": {},
   "outputs": [
    {
     "name": "stdout",
     "output_type": "stream",
     "text": [
      "IGRAPH UN-- 8 10 --\n",
      "+ attr: name (v)\n",
      "+ edges (vertex names):\n",
      "11110435--1706957, 11110435--163279, 11110435--14852434, 11110435--142729,\n",
      "11110435--142729, 11110435--152233, 11110435--163279, 11110435--1205988,\n",
      "11110435--1385374, 11110435--1706957\n"
     ]
    }
   ],
   "source": []
  },
  {
   "cell_type": "code",
   "execution_count": null,
   "metadata": {},
   "outputs": [],
   "source": []
  }
 ],
 "metadata": {
  "kernelspec": {
   "display_name": "Python 2",
   "language": "python",
   "name": "python2"
  },
  "language_info": {
   "codemirror_mode": {
    "name": "ipython",
    "version": 2
   },
   "file_extension": ".py",
   "mimetype": "text/x-python",
   "name": "python",
   "nbconvert_exporter": "python",
   "pygments_lexer": "ipython2",
   "version": "2.7.15"
  }
 },
 "nbformat": 4,
 "nbformat_minor": 2
}
