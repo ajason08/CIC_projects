{
 "cells": [
  {
   "cell_type": "code",
   "execution_count": 1,
   "metadata": {},
   "outputs": [
    {
     "name": "stderr",
     "output_type": "stream",
     "text": [
      "C:\\Anaconda3\\lib\\site-packages\\gensim\\utils.py:1197: UserWarning: detected Windows; aliasing chunkize to chunkize_serial\n",
      "  warnings.warn(\"detected Windows; aliasing chunkize to chunkize_serial\")\n"
     ]
    }
   ],
   "source": [
    "import gensim\n",
    "import os\n",
    "import collections\n",
    "import smart_open\n",
    "import random"
   ]
  },
  {
   "cell_type": "code",
   "execution_count": 3,
   "metadata": {
    "collapsed": true
   },
   "outputs": [],
   "source": [
    "# Set file names for train and test data\n",
    "test_data_dir = '{}'.format(os.sep).join([gensim.__path__[0], 'test', 'test_data'])\n",
    "lee_train_file = test_data_dir + os.sep + 'lee_background.cor'\n",
    "lee_test_file = test_data_dir + os.sep + 'lee.cor'"
   ]
  },
  {
   "cell_type": "code",
   "execution_count": 4,
   "metadata": {
    "collapsed": true
   },
   "outputs": [],
   "source": [
    "def read_corpus(fname, tokens_only=False):\n",
    "    with smart_open.smart_open(fname, encoding=\"iso-8859-1\") as f:\n",
    "        for i, line in enumerate(f):\n",
    "            if tokens_only:\n",
    "                yield gensim.utils.simple_preprocess(line)\n",
    "            else:\n",
    "                # For training data, add tags\n",
    "                yield gensim.models.doc2vec.TaggedDocument(gensim.utils.simple_preprocess(line), [i])"
   ]
  },
  {
   "cell_type": "code",
   "execution_count": 5,
   "metadata": {
    "collapsed": true
   },
   "outputs": [],
   "source": [
    "train_corpus = list(read_corpus(lee_train_file))\n",
    "test_corpus = list(read_corpus(lee_test_file, tokens_only=True))"
   ]
  },
  {
   "cell_type": "code",
   "execution_count": 2,
   "metadata": {},
   "outputs": [
    {
     "name": "stdout",
     "output_type": "stream",
     "text": [
      "207 90\n"
     ]
    }
   ],
   "source": [
    "# my training data\n",
    "filename = \"C:/my_temp/abstracts_train.csv\"\n",
    "lines = tuple(open(filename, 'r'))\n",
    "\n",
    "train_corpus = []\n",
    "for i, line in enumerate(lines):\n",
    "    x = gensim.models.doc2vec.TaggedDocument(gensim.utils.simple_preprocess(line), [i])\n",
    "    train_corpus.append(x)\n",
    "\n",
    "filename = \"C:/my_temp/abstracts_test.csv\"\n",
    "lines = tuple(open(filename, 'r'))\n",
    "\n",
    "test_corpus = []\n",
    "for i, line in enumerate(lines):\n",
    "    x = gensim.utils.simple_preprocess(line)\n",
    "    test_corpus.append(x)\n",
    "print(len(train_corpus),len(test_corpus))"
   ]
  },
  {
   "cell_type": "code",
   "execution_count": 5,
   "metadata": {},
   "outputs": [
    {
     "data": {
      "text/plain": [
       "'NK cells have two main functions , namely cell-mediated cytotoxicity and production of cytokines . Multiple inhibitory receptors that regulate NK-cell cytotoxicity have been characterized whereas little is known about receptors regulating cytokine production . Here we report that CD72 , which is considered to be an important co-receptor regulating B-cell activation , is also expressed on mouse NK cells . NK cells expressing high levels of CD72 , upon stimulation with IL-12 and IL-18 or target cells , produce significantly less IFN-gamma than those expressing low levels of CD72 , whereas both subsets are equally cytotoxic . Ectopic expression of CD72 in the murine NK-cell line KY2 inhibits cytokine-induced IFN-gamma production , and the inhibitory effect is diminished by mutations in the inhibitory motifs in the intracellular domain or replacement of the extracellular domain of CD72 . Thus , CD72 is an inhibitory receptor on NK cells regulating cytokine production .\\n'"
      ]
     },
     "execution_count": 5,
     "metadata": {},
     "output_type": "execute_result"
    }
   ],
   "source": [
    "lines[0]"
   ]
  },
  {
   "cell_type": "code",
   "execution_count": 59,
   "metadata": {
    "collapsed": true
   },
   "outputs": [],
   "source": [
    "model = gensim.models.doc2vec.Doc2Vec(vector_size=50, min_count=2, epochs=55)\n",
    "model.build_vocab(train_corpus)\n",
    "#%time model.train(train_corpus, total_examples=model.corpus_count, epochs=model.epochs)\n",
    "model.train(train_corpus, total_examples=model.corpus_count, epochs=model.epochs)"
   ]
  },
  {
   "cell_type": "code",
   "execution_count": 47,
   "metadata": {},
   "outputs": [
    {
     "data": {
      "text/plain": [
       "list"
      ]
     },
     "execution_count": 47,
     "metadata": {},
     "output_type": "execute_result"
    }
   ],
   "source": [
    "type(train_corpus)\n",
    "#gensim.models.doc2vec.TaggedDocument?"
   ]
  },
  {
   "cell_type": "code",
   "execution_count": 60,
   "metadata": {},
   "outputs": [
    {
     "data": {
      "text/plain": [
       "array([ 0.08906716,  0.07031029, -0.02158041,  0.07074333, -0.08068049,\n",
       "        0.0936869 , -0.15466854, -0.04996001,  0.11892247,  0.06536631,\n",
       "       -0.02590953,  0.19045809, -0.04241417, -0.09479586, -0.13978249,\n",
       "       -0.09453529, -0.05565806,  0.11436072, -0.10992189, -0.0530768 ,\n",
       "        0.03504281,  0.05017278,  0.06948558, -0.02832355,  0.01683649,\n",
       "        0.08904222, -0.06829819, -0.06163589, -0.08909246, -0.03931525,\n",
       "        0.00189355, -0.06749137,  0.00421021,  0.08870339, -0.07675441,\n",
       "       -0.07545242,  0.06011757,  0.0799645 ,  0.1343765 ,  0.08767392,\n",
       "       -0.09484342, -0.11994749,  0.0630477 , -0.03426826, -0.01381412,\n",
       "        0.1109122 ,  0.01133253, -0.14219338, -0.07205504, -0.00281544],\n",
       "      dtype=float32)"
      ]
     },
     "execution_count": 60,
     "metadata": {},
     "output_type": "execute_result"
    }
   ],
   "source": [
    "model.infer_vector(['only', 'you', 'can', 'prevent', 'forest', 'fires'])"
   ]
  },
  {
   "cell_type": "code",
   "execution_count": 34,
   "metadata": {
    "collapsed": true
   },
   "outputs": [
    {
     "name": "stdout",
     "output_type": "stream",
     "text": [
      "Test Document (30): «police are combing through videotapes trying to spot the gunman dressed in black who shot year old man to death at downtown massage parlour the victim was hit in the stomach and upper body and died about hours later in hospital the woman was not hurt police urged business owners to turn over any security camera videotapes they might have that recorded people on the street at the time several such videos are now being reviewed»\n",
      "\n",
      "0.843387246131897 federal treasurer peter costello has warned continued economic growth in australia is dependent on an uncertain world outlook the latest figures show the economy grew by per cent in the september quarter mr costello is stressing the seriousness of the current global economic downturn as serious as anything we ve seen in the last two decades he said both he and the reserve bank governor ian macfarlane believe the timing of any pickup is unclear mr costello is hopeful about the united states prospects next year and says pickup sooner rather than later in the year could keep australia in strong position think with every confidence the december quarter is going to be strong if the us comes back we might defy again what has happened in the world he said shadow treasurer bob mcmullan says the treasurer is left relying on things out of his control all the treasurer has got in plan for is the hope the american economy will pick up in time he said he says the government has limited its own ability to respond to the international shocks by spending too much this year \n",
      "\n",
      "\n",
      "Test Document (11): «intelligence cannot say conclusively that saddam hussein has weapons of mass destruction an information gap that is complicating white house efforts to build support for an attack on saddam iraqi regime the cia has advised top administration officials to assume that iraq has some weapons of mass destruction but the agency has not given president bush smoking gun according to intelligence and administration officials»\n",
      "\n",
      "0.8470329642295837 australia will be aiming to take early wickets on day two of the second cricket test against south africa at the mcg the proteas will resume at three for after day one was badly affected by rain with only overs possible australian paceman glenn mcgrath who has two wickets says the catch taken by matthew hayden yesterday is typical of australia outstanding slips fielding this summer in the series so far there been some great catches ricky ponting in the last test occasionally get one myself he said it gives you so much more confidence when you know per cent of the catches that go flying to the slips or through the slips are going to be taken \n",
      "\n",
      "\n",
      "Test Document (11): «intelligence cannot say conclusively that saddam hussein has weapons of mass destruction an information gap that is complicating white house efforts to build support for an attack on saddam iraqi regime the cia has advised top administration officials to assume that iraq has some weapons of mass destruction but the agency has not given president bush smoking gun according to intelligence and administration officials»\n",
      "\n",
      "0.8572219610214233 skippers are expecting spectacular start to the th sydney to hobart yacht race today with the weather bureau forecasting spinnaker friendly westerly winds total of entrants are in this year race including eight round the world yachts which are expected to give last year line honours winner swedish maxi nicorette run for its money the round the world yachts are set for flying beginning with metre headstart designed to get them out of harm way the boats will have to round buoy further north near sydney heads to equalise the distance ludde ingvall the skipper of nicorette says the split start could help the maxis next year split starts are good and maybe next year they will move all the big boats into the front line so that we can get away without hitting somebody he said skipper ingvall says his start tactics are easy at the start it easy don break and don collide and don go around and don make yourself look silly he said the new south wales weather bureau says there is possibility of waves of up to five metres in bass strait for this year sydney to hobart yacht race severe weather forecaster ken batt says if low pressure system develops more off tasmania the worst case scenario could be strong winds and large seas as the yachts hit the stronger winds in bass strait you be looking at say four to five metre significant wave heights mr batt said \n",
      "\n",
      "\n"
     ]
    },
    {
     "ename": "KeyboardInterrupt",
     "evalue": "",
     "output_type": "error",
     "traceback": [
      "\u001b[1;31m---------------------------------------------------------------------------\u001b[0m",
      "\u001b[1;31mKeyboardInterrupt\u001b[0m                         Traceback (most recent call last)",
      "\u001b[1;32m<ipython-input-34-21be6144bb93>\u001b[0m in \u001b[0;36m<module>\u001b[1;34m()\u001b[0m\n\u001b[0;32m      7\u001b[0m     \u001b[0mdoc_id\u001b[0m \u001b[1;33m=\u001b[0m \u001b[0mrandom\u001b[0m\u001b[1;33m.\u001b[0m\u001b[0mrandint\u001b[0m\u001b[1;33m(\u001b[0m\u001b[1;36m0\u001b[0m\u001b[1;33m,\u001b[0m \u001b[0mlen\u001b[0m\u001b[1;33m(\u001b[0m\u001b[0mtest_corpus\u001b[0m\u001b[1;33m)\u001b[0m \u001b[1;33m-\u001b[0m \u001b[1;36m1\u001b[0m\u001b[1;33m)\u001b[0m\u001b[1;33m\u001b[0m\u001b[0m\n\u001b[0;32m      8\u001b[0m     \u001b[0minferred_vector\u001b[0m \u001b[1;33m=\u001b[0m \u001b[0mmodel\u001b[0m\u001b[1;33m.\u001b[0m\u001b[0minfer_vector\u001b[0m\u001b[1;33m(\u001b[0m\u001b[0mtest_corpus\u001b[0m\u001b[1;33m[\u001b[0m\u001b[0mdoc_id\u001b[0m\u001b[1;33m]\u001b[0m\u001b[1;33m)\u001b[0m\u001b[1;33m\u001b[0m\u001b[0m\n\u001b[1;32m----> 9\u001b[1;33m     \u001b[0msims\u001b[0m \u001b[1;33m=\u001b[0m \u001b[0mmodel\u001b[0m\u001b[1;33m.\u001b[0m\u001b[0mdocvecs\u001b[0m\u001b[1;33m.\u001b[0m\u001b[0mmost_similar\u001b[0m\u001b[1;33m(\u001b[0m\u001b[1;33m[\u001b[0m\u001b[0minferred_vector\u001b[0m\u001b[1;33m]\u001b[0m\u001b[1;33m,\u001b[0m \u001b[0mtopn\u001b[0m\u001b[1;33m=\u001b[0m\u001b[0mlen\u001b[0m\u001b[1;33m(\u001b[0m\u001b[0mmodel\u001b[0m\u001b[1;33m.\u001b[0m\u001b[0mdocvecs\u001b[0m\u001b[1;33m)\u001b[0m\u001b[1;33m)\u001b[0m\u001b[1;33m\u001b[0m\u001b[0m\n\u001b[0m\u001b[0;32m     10\u001b[0m     \u001b[0msc\u001b[0m \u001b[1;33m=\u001b[0m \u001b[0msims\u001b[0m\u001b[1;33m[\u001b[0m\u001b[1;36m0\u001b[0m\u001b[1;33m]\u001b[0m\u001b[1;33m[\u001b[0m\u001b[1;36m1\u001b[0m\u001b[1;33m]\u001b[0m\u001b[1;33m\u001b[0m\u001b[0m\n\u001b[0;32m     11\u001b[0m     \u001b[0mmax_sc\u001b[0m \u001b[1;33m=\u001b[0m \u001b[0mmax\u001b[0m\u001b[1;33m(\u001b[0m\u001b[0mmax_sc\u001b[0m\u001b[1;33m,\u001b[0m\u001b[0msc\u001b[0m\u001b[1;33m)\u001b[0m\u001b[1;33m\u001b[0m\u001b[0m\n",
      "\u001b[1;32mC:\\Anaconda3\\lib\\site-packages\\gensim\\models\\keyedvectors.py\u001b[0m in \u001b[0;36mmost_similar\u001b[1;34m(self, positive, negative, topn, clip_start, clip_end, indexer)\u001b[0m\n\u001b[0;32m   1325\u001b[0m             \u001b[1;32mreturn\u001b[0m \u001b[0mindexer\u001b[0m\u001b[1;33m.\u001b[0m\u001b[0mmost_similar\u001b[0m\u001b[1;33m(\u001b[0m\u001b[0mmean\u001b[0m\u001b[1;33m,\u001b[0m \u001b[0mtopn\u001b[0m\u001b[1;33m)\u001b[0m\u001b[1;33m\u001b[0m\u001b[0m\n\u001b[0;32m   1326\u001b[0m \u001b[1;33m\u001b[0m\u001b[0m\n\u001b[1;32m-> 1327\u001b[1;33m         \u001b[0mdists\u001b[0m \u001b[1;33m=\u001b[0m \u001b[0mdot\u001b[0m\u001b[1;33m(\u001b[0m\u001b[0mself\u001b[0m\u001b[1;33m.\u001b[0m\u001b[0mvectors_docs_norm\u001b[0m\u001b[1;33m[\u001b[0m\u001b[0mclip_start\u001b[0m\u001b[1;33m:\u001b[0m\u001b[0mclip_end\u001b[0m\u001b[1;33m]\u001b[0m\u001b[1;33m,\u001b[0m \u001b[0mmean\u001b[0m\u001b[1;33m)\u001b[0m\u001b[1;33m\u001b[0m\u001b[0m\n\u001b[0m\u001b[0;32m   1328\u001b[0m         \u001b[1;32mif\u001b[0m \u001b[1;32mnot\u001b[0m \u001b[0mtopn\u001b[0m\u001b[1;33m:\u001b[0m\u001b[1;33m\u001b[0m\u001b[0m\n\u001b[0;32m   1329\u001b[0m             \u001b[1;32mreturn\u001b[0m \u001b[0mdists\u001b[0m\u001b[1;33m\u001b[0m\u001b[0m\n",
      "\u001b[1;31mKeyboardInterrupt\u001b[0m: "
     ]
    }
   ],
   "source": [
    "# Pick a random document from the test corpus and infer a vector from the model\n",
    "sc=0\n",
    "max_sc = sc\n",
    "trash=0.9\n",
    "mintrash=0.8\n",
    "while sc<trash:\n",
    "    doc_id = random.randint(0, len(test_corpus) - 1)\n",
    "    inferred_vector = model.infer_vector(test_corpus[doc_id])\n",
    "    sims = model.docvecs.most_similar([inferred_vector], topn=len(model.docvecs))\n",
    "    sc = sims[0][1]\n",
    "    max_sc = max(max_sc,sc)\n",
    "    if max_sc==sc and max_sc> mintrash:        \n",
    "        # Compare and print the most/median/least similar documents from the train corpus\n",
    "        print('Test Document ({}): «{}»\\n'.format(doc_id, ' '.join(test_corpus[doc_id])))\n",
    "        print(sims[0][1], ' '.join(train_corpus[sims[index][0]].words),\"\\n\\n\") \n",
    "\n",
    "#, ' '.join(train_corpus[sims[0][0]].words))\n",
    "#print(u'SIMILAR/DISSIMILAR DOCS PER MODEL %s:\\n' % model)\n",
    "#for label, index in [('MOST', 0), ('MEDIAN', len(sims)//2), ('LEAST', len(sims) - 1)]:\n",
    "    #print(u'%s %s: «%s»\\n' % (label, sims[index], ' '.join(train_corpus[sims[index][0]].words)))"
   ]
  },
  {
   "cell_type": "code",
   "execution_count": 69,
   "metadata": {},
   "outputs": [
    {
     "name": "stdout",
     "output_type": "stream",
     "text": [
      "Test Document (69): «background the of hiv specific cell responses in people infected with locally circulating hiv strain will facilitate the development of hiv vaccine sixty intravenous drug users infected with hiv circulating recombinant form crf which has been spreading rapidly in western china from north to south were recruited from xinjiang china to assess the hiv specific cell responses at single peptide level with overlapping peptides olp covering the whole concensus clades and proteome results the median of the total magnitude and total number of olps recognized by ctl responses were sfc million pbmc and olps respectively when tested by clade peptides which was significantly higher than when tested by clade peptides the immunodominant regions which cover of the hiv proteome are widely distributed throughout the hiv proteome except in tat vpu and pol pr with gag pol rt pol int and nef being most frequently targeted the subdominant epitopes are mostly located in nef integrase vpr and vif of the responses directed to clade olps can be observed when tested with corresponding clade olps however pol pr and vpu tend to be targeted in the clade sequence rather than the clade sequence which is in line with the recombinant pattern of crf stronger and broader ctl responses in subjects with cd cell counts ranging from to mm were observed when compared to those with less than mm or more than mm though there have been no significant correlations identified between the accumulative ctl responses or overall breadth and cd cell count or plasma viral load conclusion this is the first study conducted to comprehensively address cell responses in chinese subjects infected with hiv crf in which subtle differences in cross reactivity were observed though similar patterns of overall immune responses were demonstrated with clade infected populations the immunodominant regions identified in this population can facilitate future hiv vaccine development in china»\n",
      "\n",
      "(204, 0.883080780506134)\n",
      "objective to identify promiscuous and potentially protective human cd cell epitopes in most conserved regions within the protein coding genome of hiv clade consensus sequence design we used the tepitope algorithm to screen the most conserved regions of the whole genome of the hiv subtype consensus sequence to identify promiscuous human cd cell epitopes in hiv the actual promiscuity of hla binding of the selected peptides was assessed by binding assays to nine prevalent hla dr molecules synthetic peptides were tested with interferon gamma elispot assays on peripheral blood mononuclear cells pbmc from hiv infected patients and eight uninfected controls results most peptides bound to multiple hla dr molecules pbmc from of chronically hiv infected patients recognized at least one of the promiscuous peptides while none of the healthy controls recognized peptides all peptides were recognized and each peptide was recognized by at least of patients of the patients recognized five or more peptides this response was not associated to particular hla dr alleles similar responses were obtained in cd cell depleted pbmc conclusion in silico prediction of promiscuous epitopes led to the identification of naturally immunodominant cd cell epitopes recognized by pbmc from significant proportion of genetically heterogeneous patient population exposed to hiv this combination of cd cell epitopes of them not described before may have the potential for inclusion in vaccine against hiv allowing the immunization of genetically distinct populations \n",
      "\n",
      "\n",
      "Test Document (40): «we have previously demonstrated that oral administration of bovine lactoferrin blf markedly increases cd and cd cells and nk asialogm cells in the blood of tumor bearing mice and enhances anti metastatic activity in this paper we document that oral administration of blf and blf hydrolysate blfh is associated with strong increases in cd and cd as well as asialogm cells in lymphoid tissues and lamina propria of the small intestine in mice especially in tumor bearing animals in which co lu cells were implanted subcutaneously moreover igm and iga cells in lamina propria of the small intestine were also significantly increased by blf and blfh bovine apo transferrin btf did not exhibit such activity in the colon only cd cells were significantly increased by treatment with blf while asialogm cells were significantly decreased blf and blfh induced cytokines to activate and asialogm cells administration of blf and blfh but not btf increased production of interleukin il interferon gamma ifn gamma and caspase in the mucosa of the small intestine particularly high levels of il were found in the epithelial cells of the small intestine moreover administration of blf and blfh but not btf induced ifn gamma presenting cells in the small intestine caspase which processes proil to mature il was also induced in the epithelial cells of the small intestine following treatment with blf and blfh but not with btf these results suggest that enhanced production of il and ifn gamma and caspase induction by treatment with blf may be important for elevation of intestinal mucosal immunity»\n",
      "\n",
      "(50, 0.8954618573188782)\n",
      "we have previously demonstrated that oral administration of bovine lactoferrin blf markedly inhibits lung metastatic colony formation and that this inhibition was possibly due to the activation of and nk cells furthermore we found that interleukin il is induced in epithelial cells of the small intestine by blf the present study was undertaken to confirm cytokine production in response to blf and to assess the underlying mechanisms markedly elevated il levels were found in the small intestine after single administration of blf its pepsin hydrolysate blfh or btf importantly while il was significantly increased after regimen of seven daily administrations of blf or blfh administration of btf over the course of seven days had little or no effect in addition to il significant increase in caspase activity and interferon gamma ifn gamma was found in the small intestine after administration of blf similarly in peritoneal macrophages blf markedly enhanced caspase activity and il levels finally caspase inhibitor significantly decreased blf mediated induction of il in vitro btf had no effect on either caspase or ifn gamma or on il in vitro these results demonstrate the possibility that elevation of caspase activity by blf and its hydrolysate may be important for production of mature il in vivo and thus in potentiating the killing activity of and nk cells against tumor cells \n",
      "\n",
      "\n",
      "Test Document (40): «we have previously demonstrated that oral administration of bovine lactoferrin blf markedly increases cd and cd cells and nk asialogm cells in the blood of tumor bearing mice and enhances anti metastatic activity in this paper we document that oral administration of blf and blf hydrolysate blfh is associated with strong increases in cd and cd as well as asialogm cells in lymphoid tissues and lamina propria of the small intestine in mice especially in tumor bearing animals in which co lu cells were implanted subcutaneously moreover igm and iga cells in lamina propria of the small intestine were also significantly increased by blf and blfh bovine apo transferrin btf did not exhibit such activity in the colon only cd cells were significantly increased by treatment with blf while asialogm cells were significantly decreased blf and blfh induced cytokines to activate and asialogm cells administration of blf and blfh but not btf increased production of interleukin il interferon gamma ifn gamma and caspase in the mucosa of the small intestine particularly high levels of il were found in the epithelial cells of the small intestine moreover administration of blf and blfh but not btf induced ifn gamma presenting cells in the small intestine caspase which processes proil to mature il was also induced in the epithelial cells of the small intestine following treatment with blf and blfh but not with btf these results suggest that enhanced production of il and ifn gamma and caspase induction by treatment with blf may be important for elevation of intestinal mucosal immunity»\n",
      "\n",
      "(50, 0.8989475965499878)\n",
      "we have previously demonstrated that oral administration of bovine lactoferrin blf markedly inhibits lung metastatic colony formation and that this inhibition was possibly due to the activation of and nk cells furthermore we found that interleukin il is induced in epithelial cells of the small intestine by blf the present study was undertaken to confirm cytokine production in response to blf and to assess the underlying mechanisms markedly elevated il levels were found in the small intestine after single administration of blf its pepsin hydrolysate blfh or btf importantly while il was significantly increased after regimen of seven daily administrations of blf or blfh administration of btf over the course of seven days had little or no effect in addition to il significant increase in caspase activity and interferon gamma ifn gamma was found in the small intestine after administration of blf similarly in peritoneal macrophages blf markedly enhanced caspase activity and il levels finally caspase inhibitor significantly decreased blf mediated induction of il in vitro btf had no effect on either caspase or ifn gamma or on il in vitro these results demonstrate the possibility that elevation of caspase activity by blf and its hydrolysate may be important for production of mature il in vivo and thus in potentiating the killing activity of and nk cells against tumor cells \n",
      "\n",
      "\n"
     ]
    },
    {
     "name": "stdout",
     "output_type": "stream",
     "text": [
      "Test Document (82): «two years ago ce certified interferon gamma release assays igra were launched on the german market quantiferon tb gold in tube and spot tb since this time multitude of studies have analysed these assays guidelines have been elaborated by national expert committees of england the usa and switzerland however standards of tuberculosis diagnostics and management may vary from country to country this statement provides practice relevant recommendations for indications pre analytics and the interpretation of igra test results under different clinical conditions the igra are integrated into existing guidelines for the management of tuberculosis»\n",
      "\n",
      "(142, 0.904216468334198)\n",
      "two new tests quantiferon tb and spot tb for diagnosis of latent tuberculosis are on the market they measure the release of interferon gamma in whole blood in response to stimulation by pdd they offer more accurate approach than tuberculin skin test for identification of individuals with latent tuberculosis infection \n",
      "\n",
      "\n",
      "Test Document (82): «two years ago ce certified interferon gamma release assays igra were launched on the german market quantiferon tb gold in tube and spot tb since this time multitude of studies have analysed these assays guidelines have been elaborated by national expert committees of england the usa and switzerland however standards of tuberculosis diagnostics and management may vary from country to country this statement provides practice relevant recommendations for indications pre analytics and the interpretation of igra test results under different clinical conditions the igra are integrated into existing guidelines for the management of tuberculosis»\n",
      "\n",
      "(142, 0.9130335450172424)\n",
      "two new tests quantiferon tb and spot tb for diagnosis of latent tuberculosis are on the market they measure the release of interferon gamma in whole blood in response to stimulation by pdd they offer more accurate approach than tuberculin skin test for identification of individuals with latent tuberculosis infection \n",
      "\n",
      "\n"
     ]
    },
    {
     "ename": "KeyboardInterrupt",
     "evalue": "",
     "output_type": "error",
     "traceback": [
      "\u001b[1;31m---------------------------------------------------------------------------\u001b[0m",
      "\u001b[1;31mKeyboardInterrupt\u001b[0m                         Traceback (most recent call last)",
      "\u001b[1;32m<ipython-input-69-2e0f5cebba9a>\u001b[0m in \u001b[0;36m<module>\u001b[1;34m()\u001b[0m\n\u001b[0;32m      7\u001b[0m     \u001b[0mdoc_id\u001b[0m \u001b[1;33m=\u001b[0m \u001b[0mrandom\u001b[0m\u001b[1;33m.\u001b[0m\u001b[0mrandint\u001b[0m\u001b[1;33m(\u001b[0m\u001b[1;36m0\u001b[0m\u001b[1;33m,\u001b[0m \u001b[0mlen\u001b[0m\u001b[1;33m(\u001b[0m\u001b[0mtest_corpus\u001b[0m\u001b[1;33m)\u001b[0m \u001b[1;33m-\u001b[0m \u001b[1;36m1\u001b[0m\u001b[1;33m)\u001b[0m\u001b[1;33m\u001b[0m\u001b[0m\n\u001b[0;32m      8\u001b[0m     \u001b[1;31m#print(type(test_corpus[doc_id]))\u001b[0m\u001b[1;33m\u001b[0m\u001b[1;33m\u001b[0m\u001b[0m\n\u001b[1;32m----> 9\u001b[1;33m     \u001b[0minferred_vector\u001b[0m \u001b[1;33m=\u001b[0m \u001b[0mmodel\u001b[0m\u001b[1;33m.\u001b[0m\u001b[0minfer_vector\u001b[0m\u001b[1;33m(\u001b[0m\u001b[0mtest_corpus\u001b[0m\u001b[1;33m[\u001b[0m\u001b[0mdoc_id\u001b[0m\u001b[1;33m]\u001b[0m\u001b[1;33m)\u001b[0m\u001b[1;33m\u001b[0m\u001b[0m\n\u001b[0m\u001b[0;32m     10\u001b[0m \u001b[1;33m\u001b[0m\u001b[0m\n\u001b[0;32m     11\u001b[0m     \u001b[0msims\u001b[0m \u001b[1;33m=\u001b[0m \u001b[0mmodel\u001b[0m\u001b[1;33m.\u001b[0m\u001b[0mdocvecs\u001b[0m\u001b[1;33m.\u001b[0m\u001b[0mmost_similar\u001b[0m\u001b[1;33m(\u001b[0m\u001b[1;33m[\u001b[0m\u001b[0minferred_vector\u001b[0m\u001b[1;33m]\u001b[0m\u001b[1;33m,\u001b[0m \u001b[0mtopn\u001b[0m\u001b[1;33m=\u001b[0m\u001b[0mlen\u001b[0m\u001b[1;33m(\u001b[0m\u001b[0mmodel\u001b[0m\u001b[1;33m.\u001b[0m\u001b[0mdocvecs\u001b[0m\u001b[1;33m)\u001b[0m\u001b[1;33m)\u001b[0m\u001b[1;33m\u001b[0m\u001b[0m\n",
      "\u001b[1;32mC:\\Anaconda3\\lib\\site-packages\\gensim\\models\\doc2vec.py\u001b[0m in \u001b[0;36minfer_vector\u001b[1;34m(self, doc_words, alpha, min_alpha, steps)\u001b[0m\n\u001b[0;32m    561\u001b[0m                 train_document_dm(\n\u001b[0;32m    562\u001b[0m                     \u001b[0mself\u001b[0m\u001b[1;33m,\u001b[0m \u001b[0mdoc_words\u001b[0m\u001b[1;33m,\u001b[0m \u001b[0mdoctag_indexes\u001b[0m\u001b[1;33m,\u001b[0m \u001b[0malpha\u001b[0m\u001b[1;33m,\u001b[0m \u001b[0mwork\u001b[0m\u001b[1;33m,\u001b[0m \u001b[0mneu1\u001b[0m\u001b[1;33m,\u001b[0m\u001b[1;33m\u001b[0m\u001b[0m\n\u001b[1;32m--> 563\u001b[1;33m                     \u001b[0mlearn_words\u001b[0m\u001b[1;33m=\u001b[0m\u001b[1;32mFalse\u001b[0m\u001b[1;33m,\u001b[0m \u001b[0mlearn_hidden\u001b[0m\u001b[1;33m=\u001b[0m\u001b[1;32mFalse\u001b[0m\u001b[1;33m,\u001b[0m \u001b[0mdoctag_vectors\u001b[0m\u001b[1;33m=\u001b[0m\u001b[0mdoctag_vectors\u001b[0m\u001b[1;33m,\u001b[0m \u001b[0mdoctag_locks\u001b[0m\u001b[1;33m=\u001b[0m\u001b[0mdoctag_locks\u001b[0m\u001b[1;33m\u001b[0m\u001b[0m\n\u001b[0m\u001b[0;32m    564\u001b[0m                 )\n\u001b[0;32m    565\u001b[0m             \u001b[0malpha\u001b[0m \u001b[1;33m=\u001b[0m \u001b[1;33m(\u001b[0m\u001b[1;33m(\u001b[0m\u001b[0malpha\u001b[0m \u001b[1;33m-\u001b[0m \u001b[0mmin_alpha\u001b[0m\u001b[1;33m)\u001b[0m \u001b[1;33m/\u001b[0m \u001b[1;33m(\u001b[0m\u001b[0msteps\u001b[0m \u001b[1;33m-\u001b[0m \u001b[0mi\u001b[0m\u001b[1;33m)\u001b[0m\u001b[1;33m)\u001b[0m \u001b[1;33m+\u001b[0m \u001b[0mmin_alpha\u001b[0m\u001b[1;33m\u001b[0m\u001b[0m\n",
      "\u001b[1;31mKeyboardInterrupt\u001b[0m: "
     ]
    }
   ],
   "source": [
    "# Pick a random document from the test corpus and infer a vector from the model\n",
    "sc=0\n",
    "max_sc = sc\n",
    "trash=0.95\n",
    "mintrash=0.88\n",
    "while sc<trash:\n",
    "    doc_id = random.randint(0, len(test_corpus) - 1)    \n",
    "    #print(type(test_corpus[doc_id]))\n",
    "    inferred_vector = model.infer_vector(test_corpus[doc_id])\n",
    "    \n",
    "    sims = model.docvecs.most_similar([inferred_vector], topn=len(model.docvecs))\n",
    "    sc = sims[0][1]\n",
    "    max_sc = max(max_sc,sc)\n",
    "    if max_sc==sc and max_sc> mintrash:        \n",
    "        # Compare and print the most/median/least similar documents from the train corpus\n",
    "        print('Test Document ({}): «{}»\\n'.format(doc_id, ' '.join(test_corpus[doc_id])))\n",
    "        print(sims[0])\n",
    "        print(' '.join(train_corpus[sims[0][0]].words),\"\\n\\n\") \n",
    "\n",
    "#, ' '.join(train_corpus[sims[0][0]].words))\n",
    "#print(u'SIMILAR/DISSIMILAR DOCS PER MODEL %s:\\n' % model)\n",
    "#for label, index in [('MOST', 0), ('MEDIAN', len(sims)//2), ('LEAST', len(sims) - 1)]:\n",
    "    #print(u'%s %s: «%s»\\n' % (label, sims[index], ' '.join(train_corpus[sims[index][0]].words)))"
   ]
  },
  {
   "cell_type": "code",
   "execution_count": null,
   "metadata": {
    "collapsed": true
   },
   "outputs": [],
   "source": []
  }
 ],
 "metadata": {
  "kernelspec": {
   "display_name": "Python 3",
   "language": "python",
   "name": "python3"
  },
  "language_info": {
   "codemirror_mode": {
    "name": "ipython",
    "version": 3
   },
   "file_extension": ".py",
   "mimetype": "text/x-python",
   "name": "python",
   "nbconvert_exporter": "python",
   "pygments_lexer": "ipython3",
   "version": "3.6.3"
  }
 },
 "nbformat": 4,
 "nbformat_minor": 2
}
