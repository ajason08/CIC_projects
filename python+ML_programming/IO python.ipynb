{
 "cells": [
  {
   "cell_type": "code",
   "execution_count": 43,
   "metadata": {
    "collapsed": true
   },
   "outputs": [],
   "source": [
    "import numpy"
   ]
  },
  {
   "cell_type": "code",
   "execution_count": 38,
   "metadata": {
    "collapsed": true
   },
   "outputs": [],
   "source": [
    "# read line by line\n",
    "filename = \"C:/my_temp/abstracts_hiv.csv\"\n",
    "lines = tuple(open(filename, 'r'))"
   ]
  },
  {
   "cell_type": "code",
   "execution_count": 61,
   "metadata": {},
   "outputs": [],
   "source": [
    "# read CSV as Dictionary or list\n",
    "import csv, sys\n",
    "\n",
    "# To avoid this error: OverflowError: Python int too large to convert to C long\n",
    "def get_maxsize():\n",
    "    maxInt = sys.maxsize\n",
    "    decrement = True\n",
    "    while decrement:\n",
    "        # decrease the maxInt value by factor 10 \n",
    "        # as long as the OverflowError occurs.\n",
    "        decrement = False\n",
    "        try:\n",
    "            csv.field_size_limit(maxInt)\n",
    "        except OverflowError:\n",
    "            maxInt = int(maxInt/10)\n",
    "            decrement = True\n",
    "    return maxInt\n",
    "\n",
    "path = 'C:/my_temp/example.csv'\n",
    "csv.field_size_limit(get_maxsize())\n",
    "with open(path, mode='r',encoding=\"Latin-1\") as infile:\n",
    "    reader = csv.reader(infile,delimiter='\\t')\n",
    "    mydict = {row[0]:row[1:] for row in reader}    \n",
    "    #mydict = dict((rows[0],rows[1]) for rows in reader) # python2\n",
    "    \n",
    "#     # list alternative\n",
    "#     x_set, y_set = [],[]\n",
    "#     for row in reader:\n",
    "#         x_set.append(row[0])\n",
    "#         y_set.append(row[1])"
   ]
  },
  {
   "cell_type": "code",
   "execution_count": 42,
   "metadata": {},
   "outputs": [
    {
     "ename": "NameError",
     "evalue": "name 'numpy' is not defined",
     "output_type": "error",
     "traceback": [
      "\u001b[1;31m---------------------------------------------------------------------------\u001b[0m",
      "\u001b[1;31mNameError\u001b[0m                                 Traceback (most recent call last)",
      "\u001b[1;32m<ipython-input-42-146b452b6a74>\u001b[0m in \u001b[0;36m<module>\u001b[1;34m()\u001b[0m\n\u001b[1;32m----> 1\u001b[1;33m \u001b[0mdataset\u001b[0m \u001b[1;33m=\u001b[0m \u001b[0mnumpy\u001b[0m\u001b[1;33m.\u001b[0m\u001b[0mloadtxt\u001b[0m\u001b[1;33m(\u001b[0m\u001b[1;34m\"C:/my_temp/pima-indians-diabetes.csv\"\u001b[0m\u001b[1;33m,\u001b[0m \u001b[0mdelimiter\u001b[0m\u001b[1;33m=\u001b[0m\u001b[1;34m\",\"\u001b[0m\u001b[1;33m)\u001b[0m\u001b[1;33m\u001b[0m\u001b[0m\n\u001b[0m\u001b[0;32m      2\u001b[0m \u001b[1;31m# split into input (X) and output (Y) variables\u001b[0m\u001b[1;33m\u001b[0m\u001b[1;33m\u001b[0m\u001b[0m\n\u001b[0;32m      3\u001b[0m \u001b[0mX\u001b[0m \u001b[1;33m=\u001b[0m \u001b[0mdataset\u001b[0m\u001b[1;33m[\u001b[0m\u001b[1;33m:\u001b[0m\u001b[1;33m,\u001b[0m\u001b[1;36m0\u001b[0m\u001b[1;33m:\u001b[0m\u001b[1;33m-\u001b[0m\u001b[1;36m1\u001b[0m\u001b[1;33m]\u001b[0m\u001b[1;33m\u001b[0m\u001b[0m\n\u001b[0;32m      4\u001b[0m \u001b[0mY\u001b[0m \u001b[1;33m=\u001b[0m \u001b[0mdataset\u001b[0m\u001b[1;33m[\u001b[0m\u001b[1;33m:\u001b[0m\u001b[1;33m,\u001b[0m\u001b[1;33m-\u001b[0m\u001b[1;36m1\u001b[0m\u001b[1;33m]\u001b[0m\u001b[1;33m\u001b[0m\u001b[0m\n\u001b[0;32m      5\u001b[0m \u001b[1;33m\u001b[0m\u001b[0m\n",
      "\u001b[1;31mNameError\u001b[0m: name 'numpy' is not defined"
     ]
    }
   ],
   "source": [
    "# split into input (X) and output (Y) variables\n",
    "\n",
    "dataset = numpy.loadtxt(\"C:/my_temp/pima-indians-diabetes.csv\", delimiter=\",\")\n",
    "X = dataset[:,0:-1]\n",
    "Y = dataset[:,-1]\n",
    "\n",
    "my_data = genfromtxt(path, delimiter='_')"
   ]
  },
  {
   "cell_type": "code",
   "execution_count": 57,
   "metadata": {},
   "outputs": [
    {
     "name": "stdout",
     "output_type": "stream",
     "text": [
      "['Well, everyone got up and going this morning. It\\'s still raining, but that\\'s okay with me. Sort of suits my mood. I could easily have stayed home in bed with my book and the cats. This has been a lot of rain though! People have wet basements, there are lakes where there should be golf courses and fields, everything is green, green, green. But, it is supposed to be 26 degrees by Friday, so we\\'ll be dealing with mosquitos next week. I heard Winnipeg described as an \"Old Testament\" city on urlLink CBC Radio One last week and it sort of rings true. Floods, infestations, etc., etc..$#$female\\n', 'My four-year old never stops talking. She\\'ll say \"Mom?\" and when I say \"Yes?\", she\\'ll say \"Ummm.... ummm... oh yeah. Where do lady bugs hide in the rain?\" Anything to hear her own voice. Very, very exhausting. Now I remember! This is why I go to work! *Sigh*$#$female\\n', \"Actually it's not raining yet, but I bought 15 tickets to the urlLink Goldeyes game for my Mom's birthday tonight, and it is supposed to rain. Do they cancel baseball games because of rain? Although the ballpark is beautiful, it ain't the urlLink SkyDome . We used to go to the Jays games occassionally when we lived in Toronto and really like taking the kids to the Goldeyes games now. I don't know what urlLink Blue Jays tickets cost now, but I'm sure it's cheaper here in Winnipeg. Oh, I just checked and it definitely is!$#$female\\n\", \"Ha! Just set up my RSS feed - that is so easy! Why doesn't everyone do it? Enough for today. The sun is shining and I should be outside planting my poor flowers (that have spent far too long in their pots) but I have 3 kindergartners and a preschooler who are refusing to go outside. Little gameboy junkies... I should talk! Last post today, I promise.$#$female\\n\", \"Oh, which just reminded me, we were talking about canning food at coffee break this morning. Is this becoming a lost art? Are there any people under 40 who know how to do this? Those of us at coffee that fall in that age range couldn't. What would happen if the world as we know it ceased to exist (a la urlLink Day After Tomorrow which is only being released today and I can't wait to see - I love a good escapist picture with lots of special effects) and we had to preserve our food somehow? Well, we in Canada definitely would need to preserve our food. I found lots of sites on canning, including urlLink this one , but I guess that wouldn't help me much if everything went. Better print it out and keep it just in case!$#$female\\n\", 'I\\'ve tried starting blog after blog and it just never feels right. Then I read today that it feels strange to most people, but the more you do it the better it gets (hmm, sounds suspiciously like something else!) so I decided to give it another try. My husband bought me a notepad at urlLink McNally (the best bookstore in Western Canada) with that title and a picture of a 50s housewife grinning desperately. Each page has something funny like \"New curtains! Hurrah!\". For some reason it struck me as absolutely hilarious and has stuck in my head ever since. What were those women thinking?$#$female\\n', 'My 20th high school urlLink reunion is this weekend. There are over 100 people coming, so it should be a good time. Lots of names from the past. Funny, I barely ever run into anyone, and yet a lot are still in the city.$#$female\\n', 'We always have pizza on Friday nights. It takes the stress out of \"what am I going to make for dinner\" and the kids look forward to it. In fact, many of their friends look forward to it too! But tonight we are having a family gathering at my mom\\'s and I\\'ve offered to make pizza for all the kids. So I\\'ve been madly making dough in my breadmaker (which is very easy but still needs to be done) and freezing it. Now I have to go home and cut vegetables for the vegetarian cousins\\' pizzas and grate a huge amount of cheese. Then I\\'ll have to cart it all over to my mom\\'s without wrecking the crusts. It is not the usual relaxing Friday night, but this hasn\\'t been a relaxed week at all.$#$female\\n', \"Okay, I saw it this past weekend. Not as good as Independence Day for sure. Better than Raising Helen which I also saw. Yes, two movies in one weekend! One was with book club, and one was with my husband since we hadn't been out together forever. Guess which was with whom...$#$female\\n\", \"I've been cataloguing film scripts at work. What fun! I have to look a lot of the writers up on the urlLink IMDB . What a great database! I read somewhere that there were lots of mistakes in there, but given the absolutely huge amount of information, it is bound to happen. And everything links! I love it. Library catalogues should be so good. Best of all is getting a little sneak peek into people's lives. Just enough to get your imagination going...$#$female\\n\"]\n"
     ]
    }
   ],
   "source": [
    "# print head\n",
    "from itertools import islice\n",
    "path = 'C:/my_temp/blogs_processed.csv'\n",
    "N = 10\n",
    "with open(path) as myfile:\n",
    "    head = list(islice(myfile, N))\n",
    "print (head)"
   ]
  },
  {
   "cell_type": "code",
   "execution_count": null,
   "metadata": {
    "collapsed": true
   },
   "outputs": [],
   "source": []
  }
 ],
 "metadata": {
  "kernelspec": {
   "display_name": "Python 3",
   "language": "python",
   "name": "python3"
  },
  "language_info": {
   "codemirror_mode": {
    "name": "ipython",
    "version": 3
   },
   "file_extension": ".py",
   "mimetype": "text/x-python",
   "name": "python",
   "nbconvert_exporter": "python",
   "pygments_lexer": "ipython3",
   "version": "3.7.0"
  },
  "varInspector": {
   "cols": {
    "lenName": 16,
    "lenType": 16,
    "lenVar": 40
   },
   "kernels_config": {
    "python": {
     "delete_cmd_postfix": "",
     "delete_cmd_prefix": "del ",
     "library": "var_list.py",
     "varRefreshCmd": "print(var_dic_list())"
    },
    "r": {
     "delete_cmd_postfix": ") ",
     "delete_cmd_prefix": "rm(",
     "library": "var_list.r",
     "varRefreshCmd": "cat(var_dic_list()) "
    }
   },
   "types_to_exclude": [
    "module",
    "function",
    "builtin_function_or_method",
    "instance",
    "_Feature"
   ],
   "window_display": false
  }
 },
 "nbformat": 4,
 "nbformat_minor": 2
}
